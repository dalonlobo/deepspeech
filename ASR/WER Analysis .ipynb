{
 "cells": [
  {
   "cell_type": "code",
   "execution_count": 1,
   "metadata": {},
   "outputs": [],
   "source": [
    "from __future__ import print_function, division\n",
    "import pandas as pd\n",
    "import numpy as np\n",
    "import matplotlib.pyplot as plt\n",
    "import seaborn as sns\n",
    "import pickle\n",
    "import text # WER calulation module from DS repo, it uses Lavenstien distance\n",
    "import wer\n",
    "\n",
    "%matplotlib inline"
   ]
  },
  {
   "cell_type": "code",
   "execution_count": null,
   "metadata": {},
   "outputs": [],
   "source": [
    "with open(\"short_videos/yw8bpB5L8xo/output_df.b\", \"rb\") as f:\n",
    "    vdf = pickle.load(f)\n"
   ]
  },
  {
   "cell_type": "code",
   "execution_count": null,
   "metadata": {},
   "outputs": [],
   "source": [
    "# Find the shape\n",
    "print(\"vdf: Number of audio segments:{}\".format(vdf.shape[0]))\n"
   ]
  },
  {
   "cell_type": "code",
   "execution_count": null,
   "metadata": {},
   "outputs": [],
   "source": [
    "# For video 1\n",
    "wer_v = []\n",
    "for val in vdf.iterrows():\n",
    "    ref = val[1][\"Reference\"]\n",
    "    ds_hyp = val[1][\"Deepspeech hypothesis\"]\n",
    "    la_hyp = val[1][\"Livai hypothesis\"]\n",
    "    if not ref:\n",
    "        # Because text.wer throws ZeroDivisionError if ref is null\n",
    "        wer_v.append([1.0, 1.0])\n",
    "        continue\n",
    "    wer_v.append([text.wer(ref, ds_hyp), text.wer(ref, la_hyp)])"
   ]
  },
  {
   "cell_type": "code",
   "execution_count": null,
   "metadata": {},
   "outputs": [],
   "source": [
    "# Push the wer to data frame for easier calculations\n",
    "werds_df = pd.DataFrame(wer_v, columns=[\"WER for DS\", \"WER for LA\"])\n"
   ]
  },
  {
   "cell_type": "code",
   "execution_count": null,
   "metadata": {},
   "outputs": [],
   "source": [
    "#   Remove all the values whose WER > 1 \n",
    "werds_df = werds_df[werds_df[\"WER for DS\"] <= 1]\n",
    "werds_df = werds_df[werds_df[\"WER for LA\"] <= 1]"
   ]
  },
  {
   "cell_type": "code",
   "execution_count": null,
   "metadata": {
    "scrolled": true
   },
   "outputs": [],
   "source": [
    "# Plotting the graph for v1\n",
    "sns.distplot(werds_df[\"WER for DS\"], label=\"WER for DS\")\n",
    "sns.distplot(werds_df[\"WER for LA\"], label=\"WER for LA\")\n",
    "plt.legend()\n",
    "plt.show()"
   ]
  },
  {
   "cell_type": "markdown",
   "metadata": {},
   "source": [
    "### Lower WER is better"
   ]
  },
  {
   "cell_type": "code",
   "execution_count": null,
   "metadata": {},
   "outputs": [],
   "source": [
    "# Look at these stats\n",
    "werds_df.describe()"
   ]
  },
  {
   "cell_type": "markdown",
   "metadata": {},
   "source": [
    "### Average of WER"
   ]
  },
  {
   "cell_type": "code",
   "execution_count": null,
   "metadata": {},
   "outputs": [],
   "source": [
    "print(\"WER average for video 1: \", werds_df.mean(), sep=\"\\n\")\n"
   ]
  },
  {
   "cell_type": "markdown",
   "metadata": {},
   "source": [
    "**For video 1, WER for LA is better by 8.81% <br />\n",
    "**"
   ]
  },
  {
   "cell_type": "markdown",
   "metadata": {},
   "source": [
    "## Calculating WER using wer module"
   ]
  },
  {
   "cell_type": "code",
   "execution_count": null,
   "metadata": {},
   "outputs": [],
   "source": [
    "# For video 1\n",
    "wer_v = []\n",
    "for val in vdf.iterrows():\n",
    "    ref = val[1][\"Reference\"]\n",
    "    ds_hyp = val[1][\"Deepspeech hypothesis\"]\n",
    "    la_hyp = val[1][\"Livai hypothesis\"]\n",
    "    if not ref:\n",
    "        # Because text.wer throws ZeroDivisionError if ref is null\n",
    "        wer_v.append([1.0, 1.0])\n",
    "        continue\n",
    "    wer_v.append([wer.wer(ref, ds_hyp), wer.wer(ref, la_hyp)])"
   ]
  },
  {
   "cell_type": "code",
   "execution_count": null,
   "metadata": {},
   "outputs": [],
   "source": [
    "# Push the wer to data frame for easier calculations\n",
    "wer_df = pd.DataFrame(wer_v, columns=[\"WER for DS\", \"WER for LA\"])\n"
   ]
  },
  {
   "cell_type": "code",
   "execution_count": null,
   "metadata": {},
   "outputs": [],
   "source": [
    "#   Remove all the values whose WER > 1 \n",
    "wer_df = wer_df[wer_df[\"WER for DS\"] <= 100]\n",
    "wer_df = wer_df[wer_df[\"WER for LA\"] <= 100]"
   ]
  },
  {
   "cell_type": "markdown",
   "metadata": {},
   "source": [
    "### Lower WER is better\n",
    "\n",
    "**Note the WER is in percentage here**"
   ]
  },
  {
   "cell_type": "code",
   "execution_count": null,
   "metadata": {},
   "outputs": [],
   "source": [
    "wer_df.describe()"
   ]
  },
  {
   "cell_type": "code",
   "execution_count": null,
   "metadata": {},
   "outputs": [],
   "source": [
    "26.9-35.26\n"
   ]
  },
  {
   "cell_type": "code",
   "execution_count": null,
   "metadata": {},
   "outputs": [],
   "source": [
    "# Plotting the graph for v1\n",
    "sns.distplot(wer_df[\"WER for DS\"], label=\"WER for DS\")\n",
    "sns.distplot(wer_df[\"WER for LA\"], label=\"WER for LA\")\n",
    "plt.legend()\n",
    "plt.show()"
   ]
  },
  {
   "cell_type": "markdown",
   "metadata": {},
   "source": [
    "### According to wer module\n",
    "**For video 1, WER for LA is better by 8.36% <br />\n",
    "  **"
   ]
  },
  {
   "cell_type": "code",
   "execution_count": null,
   "metadata": {},
   "outputs": [],
   "source": [
    "vdf"
   ]
  },
  {
   "cell_type": "code",
   "execution_count": null,
   "metadata": {},
   "outputs": [],
   "source": [
    "wer_df\n"
   ]
  },
  {
   "cell_type": "code",
   "execution_count": null,
   "metadata": {},
   "outputs": [],
   "source": [
    "\n"
   ]
  },
  {
   "cell_type": "code",
   "execution_count": 2,
   "metadata": {},
   "outputs": [],
   "source": [
    "with open(\"text_list.b\", \"rb\") as f:\n",
    "    df = pickle.load(f)"
   ]
  },
  {
   "cell_type": "code",
   "execution_count": 3,
   "metadata": {},
   "outputs": [],
   "source": [
    "df = pd.DataFrame({\"ref\": df[0], \"hyp\": df[1]})"
   ]
  },
  {
   "cell_type": "code",
   "execution_count": 4,
   "metadata": {},
   "outputs": [
    {
     "name": "stdout",
     "output_type": "stream",
     "text": [
      "i : \n",
      "\n",
      "was just : i was just to \n",
      "\n",
      "talking to somebody who's some kind of an expert on the internet and stuff  i said what's happening because i  : in to somebody who's some kind of an expert on the internmantendstuffasitwathampening because\n",
      "\n",
      "don't get to see anything except a bit of nails and our own work : don't get to see anything except a bit of news and our own work\n",
      "\n",
      "all the time i : all the time\n",
      "\n",
      "never get to browse or see anything so i was asking what are people looking for what is it  : i never get to grow sorrow see any things is asking what are people looking for what is it\n",
      "\n",
      "and he's saying it like it's a matter of fact  he's saying that it was 70  his only pornography : and he's saying it like as a matter of fact he's saying he was seventy percent is onlyportnogaa\n",
      "\n",
      "70  of : to\n",
      "\n",
      "the internet traffic is pornography  i don't know if this percentage is correct  but if it's anywhere near that i : of the internet traffic is pornography i don't know this percentegispelict but if it's anyway near that\n",
      "\n",
      "mean what's happened to us : i m in what happened us\n",
      "\n",
      "when such a powerful medium that we can communicate with the entire world don't we have anything better to say : when such a powerful medium that we can communicate with the entire world don't we have anything better to say\n",
      "\n",
      "i'm not trying to be moralistic and said this is wrong : i am not trying to be moralistic and said this is on \n",
      "\n",
      "that is wrong  but i am saying for the first time : i wrong but i am saying for the first time\n",
      "\n",
      "in the history of humanity we have this capability : and historifhumanity we have the skip\n",
      "\n",
      "that we can : that we can\n",
      "\n",
      "say something to the entire world in one shot : a something to the entire world in one shot\n",
      "\n",
      "never before this was even imaginable  isn't it i  : now before this was even imaginable so \n",
      "\n",
      "want you to understand you just taken it for granted your whatever  : i want to understand you just taken it for granted your whatever\n",
      "\n",
      "instagrams and what's apps and twitter's and emails don't take it for granted  this is the first time  : hands and warthapsanttrictors and he amailsdontakeit for glanted this is the first time\n",
      "\n",
      "that we can communicate : that we can communicate\n",
      "\n",
      "to every human being on the planet : to every him and being on the planet\n",
      "\n",
      "is it not important the highest possibilities get to them  : is it not important the host possibilities get to them\n",
      "\n",
      "today : today\n",
      "\n",
      "the three : the the \n",
      "\n",
      "biggest industries on the planet are the first number one industries arms and armaments : begised industries on the planet are the first number one industries arms and ormanmence\n",
      "\n",
      "number two is alcohol and tobacco put together : numertru is alcoholandtobaccoputtoget\n",
      "\n",
      "number three is for monsieur tickles : number to the is formaseuticos\n",
      "\n",
      "this says everything about us  what kind of people we are isn't it and : this is everything about us what kind of people we are isn't it\n",
      "\n",
      "on the internet is pornography : on the internet is pordanondro\n",
      "\n",
      "we as a generation should not let this opportunity pass we should not let these : we as a generation should not let this opportunity pass we should not let this\n",
      "\n",
      "sex maniacs : six manex\n",
      "\n",
      "child sellers to dominate this world : tildzellos predominant this world\n",
      "\n",
      "how can we allow people who sell children to do dirty things with them to dominate this planet  : how can we allow people who sell children to do dirty things with them to dominate this play\n",
      "\n",
      "tell me we are allowing them to do it : tell me we are a loving them to do it\n",
      "\n",
      "we don't have to fight them everybody thinks we have to fight no we have to overwhelm them with positive things : we don't have to fight them everybody thinks we have to fight no we have the wall well them with positive things\n",
      "\n",
      "you : \n",
      "\n"
     ]
    }
   ],
   "source": [
    "for val in df.iterrows():\n",
    "    print(val[1][\"ref\"], val[1][\"hyp\"], sep=\" : \", end=\"\\n\\n\")"
   ]
  },
  {
   "cell_type": "code",
   "execution_count": 6,
   "metadata": {},
   "outputs": [],
   "source": [
    "for val in df.iterrows():\n",
    "    print(wer.wer(val[1][\"ref\"], val[1][\"hyp\"]))"
   ]
  },
  {
   "cell_type": "code",
   "execution_count": 7,
   "metadata": {},
   "outputs": [
    {
     "data": {
      "text/plain": [
       "100.0"
      ]
     },
     "execution_count": 7,
     "metadata": {},
     "output_type": "execute_result"
    }
   ],
   "source": [
    "wer.wer(val[1][\"ref\"], val[1][\"hyp\"])"
   ]
  },
  {
   "cell_type": "code",
   "execution_count": 11,
   "metadata": {},
   "outputs": [
    {
     "name": "stdout",
     "output_type": "stream",
     "text": [
      "REF: i\n",
      "HYP:  \n",
      "EVA: D\n",
      "WER: 100.00%\n",
      "\n",
      "REF:     w a s   j u s     t    \n",
      "HYP: i   w a s   j u s t   t o  \n",
      "EVA: I I               I I   I I\n",
      "WER: 75.00%\n",
      "\n",
      "REF: t a l k i n g   t o   s o m e b o d y   w h o ' s   s o m e   k i n d   o f   a n   e x p e r t   o n   t h e   i n t e r n e t   a   n d   s t u f f     i   s a i d   w h a t ' s   h a p p e n i n g   b e c a u s e   i  \n",
      "HYP:         i n     t o   s o m e b o d y   w h o ' s   s o m e   k i n d   o f   a n   e x p e r t   o n   t h e   i n t e r n m a n t e n d   s t u f f       a s   i   t w   a t       h a m p e n i n g   b e c a u s e      \n",
      "EVA: D D D D     D                                                                                                               S S S S I     D           D D D S   D   D S   D     D D D     S                             D D D\n",
      "WER: 23.64%\n",
      "\n",
      "REF: d o n ' t   g e t   t o   s e e   a n y t h i n g   e x c e p t   a   b i t   o f   n a i l s   a n d   o u r   o w n   w o r k\n",
      "HYP: d o n ' t   g e t   t o   s e e   a n y t h i n g   e x c e p t   a   b i t   o f   n   e w s   a n d   o u r   o w n   w o r k\n",
      "EVA:                                                                                       D S S                                    \n",
      "WER: 4.69%\n",
      "\n",
      "REF: a l l   t h e   t i m e   i\n",
      "HYP: a l l   t h e   t i m e    \n",
      "EVA:                         D D\n",
      "WER: 14.29%\n",
      "\n",
      "REF:     n e v e r   g e t   t o   b r o w   s e     o r   s e e   a n y   t h i n g   s o   i   w a s   a s k i n g   w h a t   a r e   p e o p l e   l o o k i n g   f o r   w h a t   i s   i t  \n",
      "HYP: i   n e v e r   g e t   t o   g r o w   s o r r o w   s e e   a n y   t h i n g   s     i       s   a s k i n g   w h a t   a r e   p e o p l e   l o o k i n g   f o r   w h a t   i s   i t  \n",
      "EVA: I I                           S       I   S S I   S                 I           D   D     D D D                                                                                               D\n",
      "WER: 16.48%\n",
      "\n",
      "REF: a n d   h e ' s   s a y i n g   i t   l i k e   i t ' s   a   m a t t e r   o f   f a c t     h e ' s   s a y i n g   t h       a t   i         t     w a s   7 0     h i s   o n l y   p o r   n o g r a p h y\n",
      "HYP: a n d   h e ' s   s a y i n g   i t   l i k e       a s   a   m a t t e r   o f   f a c t     h e ' s   s a y i n g     h e   w a s   s e v e n t y   p e r c e n t     i s   o n l y   p o r t n o g   a     a\n",
      "EVA:                                                 D D S                                     D                           D   I I I   S   S I I I I   I   S S S S S S S   D               D       I       D   D D S\n",
      "WER: 30.53%\n",
      "\n",
      "REF: 7 0     o f\n",
      "HYP:       t o  \n",
      "EVA: D D D S   D\n",
      "WER: 83.33%\n",
      "\n",
      "REF:       t h e   i n t e r n e t   t r a f f i c   i s   p o r n o g r a p h y     i   d o n ' t   k n o w   i f   t h i s   p e r c e n t a g e   i s   c o r r e c t     b u t   i f   i t ' s   a n y w h e r e   n e a r   t h a t   i\n",
      "HYP: o f   t h e   i n t e r n e t   t r a f f i c   i s   p o r n o g r a p h y     i   d o n ' t   k n o w         t h i s   p e r c e n t     e g i s     p e l i c t     b u t   i f   i t ' s   a n y w     a y   n e a r   t h a t    \n",
      "EVA: I I I                                                                       D                           D D D                           D D   S     D D S S S S     D                                   D D S S                     D D\n",
      "WER: 20.35%\n",
      "\n",
      "REF:     m e a n   w h a t ' s   h a p p e n e d   t o   u s\n",
      "HYP: i   m   i n   w h a t       h a p p e n e d         u s\n",
      "EVA: I I   S S             D D                   D D D      \n",
      "WER: 34.62%\n",
      "\n",
      "REF: w h e n   s u c h   a   p o w e r f u l   m e d i u m   t h a t   w e   c a n   c o m m u n i c a t e   w i t h   t h e   e n t i r e   w o r l d   d o n ' t   w e   h a v e   a n y t h i n g   b e t t e r   t o   s a y\n",
      "HYP: w h e n   s u c h   a   p o w e r f u l   m e d i u m   t h a t   w e   c a n   c o m m u n i c a t e   w i t h   t h e   e n t i r e   w o r l d   d o n ' t   w e   h a v e   a n y t h i n g   b e t t e r   t o   s a y\n",
      "EVA:                                                                                                                                                                                                                            \n",
      "WER: 0.00%\n",
      "\n",
      "REF: i '   m   n o t   t r y i n g   t o   b e   m o r a l i s t i c   a n d   s a i d   t h i s   i s   w r o n g\n",
      "HYP: i   a m   n o t   t r y i n g   t o   b e   m o r a l i s t i c   a n d   s a i d   t h i s   i s       o n  \n",
      "EVA:   S I                                                                                               D D     S\n",
      "WER: 9.26%\n",
      "\n",
      "REF: t h a t   i s   w r o n g     b u t   i   a m   s a y i n g   f o r   t h e   f i r s t   t i m e\n",
      "HYP:           i     w r o n g     b u t   i   a m   s a y i n g   f o r   t h e   f i r s t   t i m e\n",
      "EVA: D D D D D   D             D                                                                      \n",
      "WER: 14.29%\n",
      "\n",
      "REF: i n   t h e   h i s t o r y   o f   h u m a n i t y   w e   h a v e   t h i s   c a p a b i l i t y\n",
      "HYP: a n       d   h i s t o r     i f   h u m a n i t y   w e   h a v e   t h   e             s k i   p\n",
      "EVA: S   D D D S               D D S   D                                       D S   D D D D D S S   D S\n",
      "WER: 40.00%\n",
      "\n",
      "REF: t h a t   w e   c a n\n",
      "HYP: t h a t   w e   c a n\n",
      "EVA:                      \n",
      "WER: 0.00%\n",
      "\n",
      "REF: s a y   s o m e t h i n g   t o   t h e   e n t i r e   w o r l d   i n   o n e   s h o t\n",
      "HYP:   a     s o m e t h i n g   t o   t h e   e n t i r e   w o r l d   i n   o n e   s h o t\n",
      "EVA: D   D                                                                                    \n",
      "WER: 4.44%\n",
      "\n",
      "REF: n e v e r   b e f o r e   t h i s   w a s   e v e n   i m a g i n a b l e     i s n ' t   i t   i  \n",
      "HYP: n     o w   b e f o r e   t h i s   w a s   e v e n   i m a g i n a b l e       s               o  \n",
      "EVA:   D D S S                                                                 D   D   D D D D D D D S  \n",
      "WER: 28.00%\n",
      "\n",
      "REF:     w a n t   y o u   t o   u n d e r s t a n d   y o u   j u s t   t a k e n   i t   f o r   g r a n t e d   y o u r   w h a t e v e r  \n",
      "HYP: i   w a n t           t o   u n d e r s t a n d   y o u   j u s t   t a k e n   i t   f o r   g r a n t e d   y o u r   w h a t e v e r  \n",
      "EVA: I I         D D D D                                                                                                                     D\n",
      "WER: 10.45%\n",
      "\n",
      "REF: i n s t a g r a m s   a n d   w h a t ' s   a p p s   a n d   t w i t t e r ' s   a n d     e     m a i l s   d o n ' t   t a k e   i t   f o r   g r a n t e d     t h i s   i s   t h e   f i r s t   t i m e  \n",
      "HYP:       h a     n d s   a n d   w   a   r t h a   p s   a n   t t r i c t o r   s   a n d   h e   a m a i l s   d o n       t a k e   i t   f o r   g l a n t e d     t h i s   i s   t h e   f i r s t   t i m e  \n",
      "EVA: D D D S   D D S S               D   D S S S   D     D     D S   S   S   S   D             I   I I           D       D D D         D                 S           D                                               D\n",
      "WER: 31.37%\n",
      "\n",
      "REF: t h a t   w e   c a n   c o m m u n i c a t e\n",
      "HYP: t h a t   w e   c a n   c o m m u n i c a t e\n",
      "EVA:                                              \n",
      "WER: 0.00%\n",
      "\n",
      "REF: t o   e v e r y   h u m   a n     b e i n g   o n   t h e   p l a n e t\n",
      "HYP: t o   e v e r y   h i m   a n d   b e i n g   o n   t h e   p l a n e t\n",
      "EVA:                     S   I     I                                        \n",
      "WER: 8.82%\n",
      "\n",
      "REF: i s   i t   n o t   i m p o r t a n t   t h e   h i g h e s t   p o s s i b i l i t i e s   g e t   t o   t h e m  \n",
      "HYP: i s   i t   n o t   i m p o r t a n t   t h e         h o s t   p o s s i b i l i t i e s   g e t   t o   t h e m  \n",
      "EVA:                                                 D D D   S                                                         D\n",
      "WER: 8.62%\n",
      "\n",
      "REF: t o d a y\n",
      "HYP: t o d a y\n",
      "EVA:          \n",
      "WER: 0.00%\n",
      "\n",
      "REF: t h e   t h r e e\n",
      "HYP: t h e   t h   e  \n",
      "EVA:             D   S\n",
      "WER: 22.22%\n",
      "\n",
      "REF: b i g g e s t     i n d u s t r i e s   o n   t h e   p l a n e t   a r e   t h e   f i r s t   n u m b e r   o n e   i n d u s t r i e s   a r m s   a n d   a r m a   m e n t s\n",
      "HYP: b   e g i s e d   i n d u s t r i e s   o n   t h e   p l a n e t   a r e   t h e   f i r s t   n u m b e r   o n e   i n d u s t r i e s   a r m s   a n d   o r m a n m e n c e\n",
      "EVA:   D S   S   S I                                                                                                                                               S       I       S S\n",
      "WER: 10.34%\n",
      "\n"
     ]
    },
    {
     "name": "stdout",
     "output_type": "stream",
     "text": [
      "REF: n u m b e r   t w o   i s   a l c o h o l   a n d   t o b a c c o   p u t   t o g e t h e r\n",
      "HYP: n u m   e r   t r u   i s   a l c o h o l   a n d   t o b a c c o   p u t   t o g e t      \n",
      "EVA:       D     D   S S                       D       D               D       D           D D D\n",
      "WER: 23.91%\n",
      "\n",
      "REF: n u m b e r   t h r e   e   i s   f o r   m o n s i e u r   t i c k l e s\n",
      "HYP: n u m b e r   t o   t h e   i s   f o r   m   a s   e u     t i c     o s\n",
      "EVA:                 S S S I                 D   D S   D     D D       D D S  \n",
      "WER: 36.11%\n",
      "\n",
      "REF: t h i s   s a y s   e v e r y t h i n g   a b o u t   u s     w h a t   k i n d   o f   p e o p l e   w e   a r e   i s n ' t   i t   a n d\n",
      "HYP: t h i s       i s   e v e r y t h i n g   a b o u t   u s     w h a t   k i n d   o f   p e o p l e   w e   a r e   i s n ' t   i t        \n",
      "EVA:           D D S                                           D                                                                         D D D D\n",
      "WER: 11.43%\n",
      "\n",
      "REF: o n   t h e   i n t e r n e t   i s   p o r n o g r a p h y\n",
      "HYP: o n   t h e   i n t e r n e t   i s   p o r d a n o n d r o\n",
      "EVA:                                             S S S S S S S S\n",
      "WER: 26.67%\n",
      "\n",
      "REF: w e   a s   a   g e n e r a t i o n   s h o u l d   n o t   l e t   t h i s   o p p o r t u n i t y   p a s s   w e   s h o u l d   n o t   l e t   t h e s e\n",
      "HYP: w e   a s   a   g e n e r a t i o n   s h o u l d   n o t   l e t   t h i s   o p p o r t u n i t y   p a s s   w e   s h o u l d   n o t   l e t   t h i s  \n",
      "EVA:                                                                                                                                                         S   D\n",
      "WER: 2.53%\n",
      "\n",
      "REF: s e x   m a n i a c s\n",
      "HYP: s i x   m a n     e x\n",
      "EVA:   S           D D S S\n",
      "WER: 45.45%\n",
      "\n",
      "REF: c h i l d   s e l l e r s   t o   d o m i n a t e   t h i s   w o r l d\n",
      "HYP:   t i l d   z e l l   o s   p r e d o m i n a n t   t h i s   w o r l d\n",
      "EVA: D S       D S       D S     S S S             S S                      \n",
      "WER: 30.56%\n",
      "\n",
      "REF: h o w   c a n   w e   a l l o w   p e o p l e   w h o   s e l l   c h i l d r e n   t o   d o   d i r t y   t h i n g s   w i t h   t h e m   t o   d o m i n a t e   t h i s   p l a n e t  \n",
      "HYP: h o w   c a n   w e   a l l o w   p e o p l e   w h o   s e l l   c h i l d r e n   t o   d o   d i r t y   t h i n g s   w i t h   t h e m   t o   d o m i n a t e   t h i s   p l a       y\n",
      "EVA:                                                                                                                                                                                       D D D S\n",
      "WER: 4.21%\n",
      "\n",
      "REF: t e l l   m e   w e   a r e   a l l o w i n g   t h e m   t o   d o   i t\n",
      "HYP: t e l l   m e   w e   a r e   a   l o v i n g   t h e m   t o   d o   i t\n",
      "EVA:                                 S     S                                  \n",
      "WER: 5.41%\n",
      "\n",
      "REF: w e   d o n ' t   h a v e   t o   f i g h t   t h e m   e v e r y b o d y   t h i n k s   w e   h a v e   t o   f i g h t   n o   w e   h a v e   t o     o v e r w h e l m   t h e m   w i t h   p o s i t i v e   t h i n g s\n",
      "HYP: w e   d o n ' t   h a v e   t o   f i g h t   t h e m   e v e r y b o d y   t h i n k s   w e   h a v e   t o   f i g h t   n o   w e   h a v e   t h e   w a l l   w e l l   t h e m   w i t h   p o s i t i v e   t h i n g s\n",
      "EVA:                                                                                                                                                     S I   S S S S S S     S                                                    \n",
      "WER: 8.11%\n",
      "\n",
      "REF: y o u\n",
      "HYP:      \n",
      "EVA: D D D\n",
      "WER: 100.00%\n",
      "\n"
     ]
    }
   ],
   "source": [
    "for val in df.iterrows():\n",
    "    r = val[1][\"ref\"]\n",
    "    h = val[1][\"hyp\"]\n",
    "    # build the matrix\n",
    "    d = wer.editDistance(r, h)\n",
    "\n",
    "    # find out the manipulation steps\n",
    "    list = wer.getStepList(r, h, d)\n",
    "\n",
    "    # print the result in aligned way\n",
    "    result = float(d[len(r)][len(h)]) / len(r) * 100\n",
    "    result = str(\"%.2f\" % result) + \"%\"\n",
    "    wer.alignedPrint(list, r, h, result)\n",
    "    print()"
   ]
  },
  {
   "cell_type": "code",
   "execution_count": null,
   "metadata": {},
   "outputs": [],
   "source": []
  }
 ],
 "metadata": {
  "kernelspec": {
   "display_name": "Python 2",
   "language": "python",
   "name": "python2"
  },
  "language_info": {
   "codemirror_mode": {
    "name": "ipython",
    "version": 2
   },
   "file_extension": ".py",
   "mimetype": "text/x-python",
   "name": "python",
   "nbconvert_exporter": "python",
   "pygments_lexer": "ipython2",
   "version": "2.7.14"
  }
 },
 "nbformat": 4,
 "nbformat_minor": 2
}
